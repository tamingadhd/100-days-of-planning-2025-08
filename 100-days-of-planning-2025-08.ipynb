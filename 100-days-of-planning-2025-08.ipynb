{
 "cells": [
  {
   "cell_type": "markdown",
   "id": "bca05847-16ed-4ab7-8a2f-58b479b51456",
   "metadata": {},
   "source": [
    "# 100 Days of Planning starting 2025-08"
   ]
  },
  {
   "cell_type": "markdown",
   "id": "d697b95d-6adc-4643-9f60-88c470f5a16a",
   "metadata": {},
   "source": [
    "Started 2025-08-03 Sunday <br/>\n",
    "https://tamingadhd.com"
   ]
  },
  {
   "cell_type": "code",
   "execution_count": null,
   "id": "62d41a0e-8484-4ac6-87f3-bf36e1a4835f",
   "metadata": {},
   "outputs": [],
   "source": []
  },
  {
   "cell_type": "markdown",
   "id": "9e2bbf69-b2d0-49fa-a45d-ad3739fdd5d1",
   "metadata": {},
   "source": [
    "This notebook will be an archive of work I have done for working on planning. I have ADHD, and planning has always been hard for me. Nevertheless, planning is essential in the modern world, and I want to practice planning for 100 days, publicly."
   ]
  },
  {
   "cell_type": "code",
   "execution_count": null,
   "id": "5791b465-56a6-46b0-a274-a45b41e2fe7e",
   "metadata": {},
   "outputs": [],
   "source": []
  },
  {
   "cell_type": "code",
   "execution_count": null,
   "id": "74473852-3d11-4a56-96b5-3f7679661f57",
   "metadata": {},
   "outputs": [],
   "source": []
  },
  {
   "cell_type": "markdown",
   "id": "9e8b6dd1-e2a3-47d9-9a63-6422c9135c85",
   "metadata": {},
   "source": [
    "# Planning work"
   ]
  },
  {
   "cell_type": "markdown",
   "id": "555ff7a9-6b8c-4c0b-8813-06456d216c7d",
   "metadata": {},
   "source": [
    "# Day 1: 2025-08-03 Sunday"
   ]
  },
  {
   "cell_type": "markdown",
   "id": "d72ec57c-634f-40ce-b084-b51364f82077",
   "metadata": {},
   "source": [
    "* None yet, but I consider this sort of planning, preparing for"
   ]
  },
  {
   "cell_type": "code",
   "execution_count": null,
   "id": "cb51c509-1e3d-4484-8c00-0ae6ebfa15a2",
   "metadata": {},
   "outputs": [],
   "source": []
  },
  {
   "cell_type": "code",
   "execution_count": null,
   "id": "bea859eb-2e7f-4215-a558-6cf54109f60a",
   "metadata": {},
   "outputs": [],
   "source": []
  },
  {
   "cell_type": "markdown",
   "id": "c7a29ebb-a338-48f2-bc65-8bccf7620b02",
   "metadata": {},
   "source": [
    "# Log of work"
   ]
  },
  {
   "cell_type": "markdown",
   "id": "b2597fda-b77c-4c76-bb55-0a200fdb921d",
   "metadata": {},
   "source": [
    "# Day 1: 2025-08-03 Sunday"
   ]
  },
  {
   "cell_type": "markdown",
   "id": "75c1dd1d-c99a-4bf9-9827-ea7ed8cfe375",
   "metadata": {},
   "source": [
    "* Make a new GitHub account\n",
    "* made  100-days-of-planning-2025-08 repository\n",
    "* Make a commitment to work on planning every day, even if just for 5 minutes, and post about it on social media"
   ]
  },
  {
   "cell_type": "code",
   "execution_count": null,
   "id": "aa49fd5e-6aca-43d6-bb2b-b2aff2e8a70a",
   "metadata": {},
   "outputs": [],
   "source": []
  },
  {
   "cell_type": "code",
   "execution_count": null,
   "id": "ed3cf1d1-5b03-4784-9156-cfe992616685",
   "metadata": {},
   "outputs": [],
   "source": []
  },
  {
   "cell_type": "markdown",
   "id": "4ee2d36b-85b3-4dfe-8fcd-a5b8da20275d",
   "metadata": {},
   "source": [
    "# Appendix"
   ]
  },
  {
   "cell_type": "code",
   "execution_count": null,
   "id": "43c61b67-816d-4622-b18d-4ce2c4f4bf53",
   "metadata": {},
   "outputs": [],
   "source": []
  },
  {
   "cell_type": "code",
   "execution_count": null,
   "id": "a19bc8f0-0488-46fb-a83c-1d8c503c87d1",
   "metadata": {},
   "outputs": [],
   "source": []
  },
  {
   "cell_type": "code",
   "execution_count": null,
   "id": "7945170e-5e46-47f6-84cb-caa85799e75b",
   "metadata": {},
   "outputs": [],
   "source": []
  }
 ],
 "metadata": {
  "kernelspec": {
   "display_name": "Python (.venv - useful-pandas-code)",
   "language": "python",
   "name": "useful-pandas-code"
  },
  "language_info": {
   "codemirror_mode": {
    "name": "ipython",
    "version": 3
   },
   "file_extension": ".py",
   "mimetype": "text/x-python",
   "name": "python",
   "nbconvert_exporter": "python",
   "pygments_lexer": "ipython3",
   "version": "3.10.12"
  }
 },
 "nbformat": 4,
 "nbformat_minor": 5
}
