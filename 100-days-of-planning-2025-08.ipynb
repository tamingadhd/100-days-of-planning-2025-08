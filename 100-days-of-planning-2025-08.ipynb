{
 "cells": [
  {
   "cell_type": "markdown",
   "id": "bca05847-16ed-4ab7-8a2f-58b479b51456",
   "metadata": {},
   "source": [
    "# 100 Days of Planning starting 2025-08"
   ]
  },
  {
   "cell_type": "markdown",
   "id": "d697b95d-6adc-4643-9f60-88c470f5a16a",
   "metadata": {},
   "source": [
    "Started 2025-08-03 Sunday <br/>\n",
    "https://tamingadhd.com"
   ]
  },
  {
   "cell_type": "code",
   "execution_count": null,
   "id": "62d41a0e-8484-4ac6-87f3-bf36e1a4835f",
   "metadata": {},
   "outputs": [],
   "source": []
  },
  {
   "cell_type": "markdown",
   "id": "9e2bbf69-b2d0-49fa-a45d-ad3739fdd5d1",
   "metadata": {},
   "source": [
    "This notebook will be an archive of work I have done for working on planning. I have ADHD, and planning has always been hard for me. Nevertheless, planning is essential in the modern world, and I want to practice planning for 100 days, publicly."
   ]
  },
  {
   "cell_type": "code",
   "execution_count": null,
   "id": "8446f48b-f372-4922-81bf-0ff3094d4943",
   "metadata": {},
   "outputs": [],
   "source": []
  }
 ],
 "metadata": {
  "kernelspec": {
   "display_name": "Python (.venv - useful-pandas-code)",
   "language": "python",
   "name": "useful-pandas-code"
  },
  "language_info": {
   "codemirror_mode": {
    "name": "ipython",
    "version": 3
   },
   "file_extension": ".py",
   "mimetype": "text/x-python",
   "name": "python",
   "nbconvert_exporter": "python",
   "pygments_lexer": "ipython3",
   "version": "3.10.12"
  }
 },
 "nbformat": 4,
 "nbformat_minor": 5
}
